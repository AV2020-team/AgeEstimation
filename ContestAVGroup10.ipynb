{
  "nbformat": 4,
  "nbformat_minor": 0,
  "metadata": {
    "colab": {
      "name": "ContestAVGroup10.ipynb",
      "provenance": [],
      "collapsed_sections": [],
      "toc_visible": true
    },
    "kernelspec": {
      "name": "python3",
      "display_name": "Python 3"
    },
    "accelerator": "GPU"
  },
  "cells": [
    {
      "cell_type": "markdown",
      "metadata": {
        "id": "1CcOyx8BLD16"
      },
      "source": [
        "# 1. Setup"
      ]
    },
    {
      "cell_type": "code",
      "metadata": {
        "id": "sJU3_bGqFLel"
      },
      "source": [
        "%cd '/content'\r\n",
        "DIR = 'ContestAVGroup10'\r\n",
        "!mkdir $DIR\r\n",
        "%cd $DIR"
      ],
      "execution_count": null,
      "outputs": []
    },
    {
      "cell_type": "code",
      "metadata": {
        "id": "mP1GmHBiF-3S"
      },
      "source": [
        "!git clone https://github.com/AV2020-team/AgeEstimation"
      ],
      "execution_count": null,
      "outputs": []
    },
    {
      "cell_type": "code",
      "metadata": {
        "id": "ejRvtgF3GjoY"
      },
      "source": [
        "%cd 'AgeEstimation'\r\n",
        "%cd dataset\r\n",
        "!mkdir cache hdf5\r\n",
        "%cd .."
      ],
      "execution_count": null,
      "outputs": []
    },
    {
      "cell_type": "markdown",
      "metadata": {
        "id": "fushtUosLJBp"
      },
      "source": [
        "# 2. Train"
      ]
    },
    {
      "cell_type": "markdown",
      "metadata": {
        "id": "2tx3_oB8MDfV"
      },
      "source": [
        "Run the following code cells if you want to repeat the training phase"
      ]
    },
    {
      "cell_type": "code",
      "metadata": {
        "id": "l2WpejqhK4h2"
      },
      "source": [
        "%cd dataset/hdf5/\r\n",
        "!gdown --id '13sjTjBoLhDNDxUQcd9V5OislSn8M_uzi'\r\n",
        "%cd ../.."
      ],
      "execution_count": null,
      "outputs": []
    },
    {
      "cell_type": "code",
      "metadata": {
        "id": "VEod5b6CH0z-"
      },
      "source": [
        "%cd dataset/cache\r\n",
        "!gdown --id '1rGR4XoaaxtFzh-H3wdriSEKVgJhQuWa0'\r\n",
        "!gdown --id '16X2-66DxZBsAmhvByCr8phsCkJK-3Tx5'\r\n",
        "%cd ../../"
      ],
      "execution_count": null,
      "outputs": []
    },
    {
      "cell_type": "code",
      "metadata": {
        "id": "LQ-SWw2RLtH_"
      },
      "source": [
        "%cd training\r\n",
        "!sh start_train.py.sh\r\n",
        "%cd .."
      ],
      "execution_count": null,
      "outputs": []
    },
    {
      "cell_type": "markdown",
      "metadata": {
        "id": "W_6UozfqLKHb"
      },
      "source": [
        "# 3. Test"
      ]
    },
    {
      "cell_type": "markdown",
      "metadata": {
        "id": "7wuS2FU8ML7p"
      },
      "source": [
        "Run the following code cells if you want to repeat the test"
      ]
    },
    {
      "cell_type": "code",
      "metadata": {
        "id": "9SMRDSTmMMg8"
      },
      "source": [
        "%cd dataset/hdf5/\r\n",
        "!gdown --id '1RBaruOSUL0j4f602A8pPlIbjAqQy2DSh'\r\n",
        "%cd ../.."
      ],
      "execution_count": null,
      "outputs": []
    },
    {
      "cell_type": "code",
      "metadata": {
        "id": "prDXXAiBvJRB"
      },
      "source": [
        "%cd dataset/cache/\r\n",
        "!gdown --id '1dZ_OHlxrC-kgFuZ1yBCZt7PD4D4X4Qmq'\r\n",
        "%cd ../.."
      ],
      "execution_count": null,
      "outputs": []
    },
    {
      "cell_type": "code",
      "metadata": {
        "id": "TSdVnx8_QqMD"
      },
      "source": [
        "%cd testing\r\n",
        "!gdown --id '102-aIovh22Nv-Rc02AgAZw9FUCN23x9b'\r\n",
        "%cd .."
      ],
      "execution_count": null,
      "outputs": []
    },
    {
      "cell_type": "code",
      "metadata": {
        "id": "ZCWwcCwrQwIm"
      },
      "source": [
        "%cd training\r\n",
        "!sh start_test_csv.sh\r\n",
        "%cd ../testing\r\n",
        "!mv results.csv GROUP_10.csv\r\n",
        "%cd .."
      ],
      "execution_count": null,
      "outputs": []
    }
  ]
}